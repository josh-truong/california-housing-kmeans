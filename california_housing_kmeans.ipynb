{
  "nbformat": 4,
  "nbformat_minor": 0,
  "metadata": {
    "colab": {
      "name": "california-housing-kmeans.ipynb",
      "provenance": [],
      "collapsed_sections": [],
      "authorship_tag": "ABX9TyNDdnAIuKhvL4/eSSbUHok1",
      "include_colab_link": true
    },
    "kernelspec": {
      "name": "python3",
      "display_name": "Python 3"
    },
    "language_info": {
      "name": "python"
    }
  },
  "cells": [
    {
      "cell_type": "markdown",
      "metadata": {
        "id": "view-in-github",
        "colab_type": "text"
      },
      "source": [
        "<a href=\"https://colab.research.google.com/github/josh-truong/california-housing-kmeans/blob/main/california_housing_kmeans.ipynb\" target=\"_parent\"><img src=\"https://colab.research.google.com/assets/colab-badge.svg\" alt=\"Open In Colab\"/></a>"
      ]
    },
    {
      "cell_type": "code",
      "execution_count": null,
      "metadata": {
        "id": "m0yatjzaqiRK"
      },
      "outputs": [],
      "source": [
        "import pandas as pd\n",
        "import numpy as np\n",
        "from sklearn.cluster import KMeans\n",
        "from sklearn.preprocessing import StandardScaler\n",
        "from sklearn.decomposition import PCA\n",
        "import seaborn as sns\n",
        "import matplotlib.pyplot as plt"
      ]
    },
    {
      "cell_type": "code",
      "source": [
        "plt.rcParams.update({\n",
        "    \"lines.color\": \"white\",\n",
        "    \"patch.edgecolor\": \"white\",\n",
        "    \"text.color\": \"black\",\n",
        "    \"axes.facecolor\": \"white\",\n",
        "    \"axes.edgecolor\": \"lightgray\",\n",
        "    \"axes.labelcolor\": \"white\",\n",
        "    \"xtick.color\": \"white\",\n",
        "    \"ytick.color\": \"white\",\n",
        "    \"grid.color\": \"lightgray\",\n",
        "    \"figure.facecolor\": \"black\",\n",
        "    \"figure.edgecolor\": \"black\",\n",
        "    \"savefig.facecolor\": \"black\",\n",
        "    \"savefig.edgecolor\": \"black\"})"
      ],
      "metadata": {
        "id": "PMpTRR9dmbni"
      },
      "execution_count": null,
      "outputs": []
    },
    {
      "cell_type": "code",
      "source": [
        "df = pd.read_csv(\"/content/sample_data/california_housing_train.csv\")\n",
        "n_features = df.shape[1]\n",
        "print(len(df))\n",
        "df.head(5)"
      ],
      "metadata": {
        "id": "4HDtZRtirEZa",
        "colab": {
          "base_uri": "https://localhost:8080/",
          "height": 224
        },
        "outputId": "3ee09fb8-fb66-4268-d7e9-b2a9464a26ad"
      },
      "execution_count": null,
      "outputs": [
        {
          "output_type": "stream",
          "name": "stdout",
          "text": [
            "17000\n"
          ]
        },
        {
          "output_type": "execute_result",
          "data": {
            "text/plain": [
              "   longitude  latitude  housing_median_age  total_rooms  total_bedrooms  \\\n",
              "0    -114.31     34.19                15.0       5612.0          1283.0   \n",
              "1    -114.47     34.40                19.0       7650.0          1901.0   \n",
              "2    -114.56     33.69                17.0        720.0           174.0   \n",
              "3    -114.57     33.64                14.0       1501.0           337.0   \n",
              "4    -114.57     33.57                20.0       1454.0           326.0   \n",
              "\n",
              "   population  households  median_income  median_house_value  \n",
              "0      1015.0       472.0         1.4936             66900.0  \n",
              "1      1129.0       463.0         1.8200             80100.0  \n",
              "2       333.0       117.0         1.6509             85700.0  \n",
              "3       515.0       226.0         3.1917             73400.0  \n",
              "4       624.0       262.0         1.9250             65500.0  "
            ],
            "text/html": [
              "\n",
              "  <div id=\"df-40634993-76dc-482b-a8d2-0a96bdf1db90\">\n",
              "    <div class=\"colab-df-container\">\n",
              "      <div>\n",
              "<style scoped>\n",
              "    .dataframe tbody tr th:only-of-type {\n",
              "        vertical-align: middle;\n",
              "    }\n",
              "\n",
              "    .dataframe tbody tr th {\n",
              "        vertical-align: top;\n",
              "    }\n",
              "\n",
              "    .dataframe thead th {\n",
              "        text-align: right;\n",
              "    }\n",
              "</style>\n",
              "<table border=\"1\" class=\"dataframe\">\n",
              "  <thead>\n",
              "    <tr style=\"text-align: right;\">\n",
              "      <th></th>\n",
              "      <th>longitude</th>\n",
              "      <th>latitude</th>\n",
              "      <th>housing_median_age</th>\n",
              "      <th>total_rooms</th>\n",
              "      <th>total_bedrooms</th>\n",
              "      <th>population</th>\n",
              "      <th>households</th>\n",
              "      <th>median_income</th>\n",
              "      <th>median_house_value</th>\n",
              "    </tr>\n",
              "  </thead>\n",
              "  <tbody>\n",
              "    <tr>\n",
              "      <th>0</th>\n",
              "      <td>-114.31</td>\n",
              "      <td>34.19</td>\n",
              "      <td>15.0</td>\n",
              "      <td>5612.0</td>\n",
              "      <td>1283.0</td>\n",
              "      <td>1015.0</td>\n",
              "      <td>472.0</td>\n",
              "      <td>1.4936</td>\n",
              "      <td>66900.0</td>\n",
              "    </tr>\n",
              "    <tr>\n",
              "      <th>1</th>\n",
              "      <td>-114.47</td>\n",
              "      <td>34.40</td>\n",
              "      <td>19.0</td>\n",
              "      <td>7650.0</td>\n",
              "      <td>1901.0</td>\n",
              "      <td>1129.0</td>\n",
              "      <td>463.0</td>\n",
              "      <td>1.8200</td>\n",
              "      <td>80100.0</td>\n",
              "    </tr>\n",
              "    <tr>\n",
              "      <th>2</th>\n",
              "      <td>-114.56</td>\n",
              "      <td>33.69</td>\n",
              "      <td>17.0</td>\n",
              "      <td>720.0</td>\n",
              "      <td>174.0</td>\n",
              "      <td>333.0</td>\n",
              "      <td>117.0</td>\n",
              "      <td>1.6509</td>\n",
              "      <td>85700.0</td>\n",
              "    </tr>\n",
              "    <tr>\n",
              "      <th>3</th>\n",
              "      <td>-114.57</td>\n",
              "      <td>33.64</td>\n",
              "      <td>14.0</td>\n",
              "      <td>1501.0</td>\n",
              "      <td>337.0</td>\n",
              "      <td>515.0</td>\n",
              "      <td>226.0</td>\n",
              "      <td>3.1917</td>\n",
              "      <td>73400.0</td>\n",
              "    </tr>\n",
              "    <tr>\n",
              "      <th>4</th>\n",
              "      <td>-114.57</td>\n",
              "      <td>33.57</td>\n",
              "      <td>20.0</td>\n",
              "      <td>1454.0</td>\n",
              "      <td>326.0</td>\n",
              "      <td>624.0</td>\n",
              "      <td>262.0</td>\n",
              "      <td>1.9250</td>\n",
              "      <td>65500.0</td>\n",
              "    </tr>\n",
              "  </tbody>\n",
              "</table>\n",
              "</div>\n",
              "      <button class=\"colab-df-convert\" onclick=\"convertToInteractive('df-40634993-76dc-482b-a8d2-0a96bdf1db90')\"\n",
              "              title=\"Convert this dataframe to an interactive table.\"\n",
              "              style=\"display:none;\">\n",
              "        \n",
              "  <svg xmlns=\"http://www.w3.org/2000/svg\" height=\"24px\"viewBox=\"0 0 24 24\"\n",
              "       width=\"24px\">\n",
              "    <path d=\"M0 0h24v24H0V0z\" fill=\"none\"/>\n",
              "    <path d=\"M18.56 5.44l.94 2.06.94-2.06 2.06-.94-2.06-.94-.94-2.06-.94 2.06-2.06.94zm-11 1L8.5 8.5l.94-2.06 2.06-.94-2.06-.94L8.5 2.5l-.94 2.06-2.06.94zm10 10l.94 2.06.94-2.06 2.06-.94-2.06-.94-.94-2.06-.94 2.06-2.06.94z\"/><path d=\"M17.41 7.96l-1.37-1.37c-.4-.4-.92-.59-1.43-.59-.52 0-1.04.2-1.43.59L10.3 9.45l-7.72 7.72c-.78.78-.78 2.05 0 2.83L4 21.41c.39.39.9.59 1.41.59.51 0 1.02-.2 1.41-.59l7.78-7.78 2.81-2.81c.8-.78.8-2.07 0-2.86zM5.41 20L4 18.59l7.72-7.72 1.47 1.35L5.41 20z\"/>\n",
              "  </svg>\n",
              "      </button>\n",
              "      \n",
              "  <style>\n",
              "    .colab-df-container {\n",
              "      display:flex;\n",
              "      flex-wrap:wrap;\n",
              "      gap: 12px;\n",
              "    }\n",
              "\n",
              "    .colab-df-convert {\n",
              "      background-color: #E8F0FE;\n",
              "      border: none;\n",
              "      border-radius: 50%;\n",
              "      cursor: pointer;\n",
              "      display: none;\n",
              "      fill: #1967D2;\n",
              "      height: 32px;\n",
              "      padding: 0 0 0 0;\n",
              "      width: 32px;\n",
              "    }\n",
              "\n",
              "    .colab-df-convert:hover {\n",
              "      background-color: #E2EBFA;\n",
              "      box-shadow: 0px 1px 2px rgba(60, 64, 67, 0.3), 0px 1px 3px 1px rgba(60, 64, 67, 0.15);\n",
              "      fill: #174EA6;\n",
              "    }\n",
              "\n",
              "    [theme=dark] .colab-df-convert {\n",
              "      background-color: #3B4455;\n",
              "      fill: #D2E3FC;\n",
              "    }\n",
              "\n",
              "    [theme=dark] .colab-df-convert:hover {\n",
              "      background-color: #434B5C;\n",
              "      box-shadow: 0px 1px 3px 1px rgba(0, 0, 0, 0.15);\n",
              "      filter: drop-shadow(0px 1px 2px rgba(0, 0, 0, 0.3));\n",
              "      fill: #FFFFFF;\n",
              "    }\n",
              "  </style>\n",
              "\n",
              "      <script>\n",
              "        const buttonEl =\n",
              "          document.querySelector('#df-40634993-76dc-482b-a8d2-0a96bdf1db90 button.colab-df-convert');\n",
              "        buttonEl.style.display =\n",
              "          google.colab.kernel.accessAllowed ? 'block' : 'none';\n",
              "\n",
              "        async function convertToInteractive(key) {\n",
              "          const element = document.querySelector('#df-40634993-76dc-482b-a8d2-0a96bdf1db90');\n",
              "          const dataTable =\n",
              "            await google.colab.kernel.invokeFunction('convertToInteractive',\n",
              "                                                     [key], {});\n",
              "          if (!dataTable) return;\n",
              "\n",
              "          const docLinkHtml = 'Like what you see? Visit the ' +\n",
              "            '<a target=\"_blank\" href=https://colab.research.google.com/notebooks/data_table.ipynb>data table notebook</a>'\n",
              "            + ' to learn more about interactive tables.';\n",
              "          element.innerHTML = '';\n",
              "          dataTable['output_type'] = 'display_data';\n",
              "          await google.colab.output.renderOutput(dataTable, element);\n",
              "          const docLink = document.createElement('div');\n",
              "          docLink.innerHTML = docLinkHtml;\n",
              "          element.appendChild(docLink);\n",
              "        }\n",
              "      </script>\n",
              "    </div>\n",
              "  </div>\n",
              "  "
            ]
          },
          "metadata": {},
          "execution_count": 158
        }
      ]
    },
    {
      "cell_type": "code",
      "source": [
        "# log transformation\n",
        "# use log on 'median_income'\n",
        "\n",
        "plt.hist(df['median_income'])"
      ],
      "metadata": {
        "colab": {
          "base_uri": "https://localhost:8080/",
          "height": 352
        },
        "id": "Q5CX1xl3-DXG",
        "outputId": "77749bbd-bc65-4140-93c9-bd2d30a3c74e"
      },
      "execution_count": null,
      "outputs": [
        {
          "output_type": "execute_result",
          "data": {
            "text/plain": [
              "(array([1833., 6100., 5020., 2466.,  891.,  368.,  152.,   79.,   42.,\n",
              "          49.]),\n",
              " array([ 0.4999 ,  1.94992,  3.39994,  4.84996,  6.29998,  7.75   ,\n",
              "         9.20002, 10.65004, 12.10006, 13.55008, 15.0001 ]),\n",
              " <a list of 10 Patch objects>)"
            ]
          },
          "metadata": {},
          "execution_count": 192
        },
        {
          "output_type": "display_data",
          "data": {
            "text/plain": [
              "<Figure size 432x288 with 1 Axes>"
            ],
            "image/png": "[encoded data removed]"
          },
          "metadata": {}
        }
      ]
    },
    {
      "cell_type": "markdown",
      "source": [
        "# Feature Selection"
      ],
      "metadata": {
        "id": "6qENQuny8P2y"
      }
    },
    {
      "cell_type": "code",
      "source": [
        ""
      ],
      "metadata": {
        "id": "KOvghxk08PiU"
      },
      "execution_count": null,
      "outputs": []
    },
    {
      "cell_type": "code",
      "source": [
        "# features = ['longitude', 'latitude', 'median_income']\n",
        "# data = df[features]"
      ],
      "metadata": {
        "id": "Ci7YaCmr8NJw"
      },
      "execution_count": null,
      "outputs": []
    },
    {
      "cell_type": "markdown",
      "source": [
        "# Dataset Normalization"
      ],
      "metadata": {
        "id": "pszDXPU98TRq"
      }
    },
    {
      "cell_type": "code",
      "source": [
        "# Normalize data\n",
        "data = StandardScaler().fit_transform(df)\n",
        "data = pd.DataFrame(data)\n",
        "data.columns = df.columns\n",
        "print(len(data))\n",
        "data.head(5)"
      ],
      "metadata": {
        "colab": {
          "base_uri": "https://localhost:8080/",
          "height": 224
        },
        "id": "Q8qkx_r4fjm_",
        "outputId": "1419dad5-7c93-42c0-864e-7087b767e6d6"
      },
      "execution_count": null,
      "outputs": [
        {
          "output_type": "stream",
          "name": "stdout",
          "text": [
            "17000\n"
          ]
        },
        {
          "output_type": "execute_result",
          "data": {
            "text/plain": [
              "   longitude  latitude  housing_median_age  total_rooms  total_bedrooms  \\\n",
              "0   2.619365 -0.671520           -1.079671     1.361695        1.764204   \n",
              "1   2.539569 -0.573264           -0.761872     2.296608        3.230441   \n",
              "2   2.494683 -0.905463           -0.920772    -0.882462       -0.866956   \n",
              "3   2.489696 -0.928857           -1.159121    -0.524186       -0.480230   \n",
              "4   2.489696 -0.961609           -0.682422    -0.545747       -0.506328   \n",
              "\n",
              "   population  households  median_income  median_house_value  \n",
              "0   -0.361184   -0.075998      -1.252543           -1.210558  \n",
              "1   -0.261865   -0.099404      -1.081483           -1.096745  \n",
              "2   -0.955354   -0.999252      -1.170105           -1.048461  \n",
              "3   -0.796793   -0.715774      -0.362600           -1.154514  \n",
              "4   -0.701830   -0.622148      -1.026454           -1.222629  "
            ],
            "text/html": [
              "\n",
              "  <div id=\"df-917effa1-f9e1-43dc-804b-463f0e6f3bde\">\n",
              "    <div class=\"colab-df-container\">\n",
              "      <div>\n",
              "<style scoped>\n",
              "    .dataframe tbody tr th:only-of-type {\n",
              "        vertical-align: middle;\n",
              "    }\n",
              "\n",
              "    .dataframe tbody tr th {\n",
              "        vertical-align: top;\n",
              "    }\n",
              "\n",
              "    .dataframe thead th {\n",
              "        text-align: right;\n",
              "    }\n",
              "</style>\n",
              "<table border=\"1\" class=\"dataframe\">\n",
              "  <thead>\n",
              "    <tr style=\"text-align: right;\">\n",
              "      <th></th>\n",
              "      <th>longitude</th>\n",
              "      <th>latitude</th>\n",
              "      <th>housing_median_age</th>\n",
              "      <th>total_rooms</th>\n",
              "      <th>total_bedrooms</th>\n",
              "      <th>population</th>\n",
              "      <th>households</th>\n",
              "      <th>median_income</th>\n",
              "      <th>median_house_value</th>\n",
              "    </tr>\n",
              "  </thead>\n",
              "  <tbody>\n",
              "    <tr>\n",
              "      <th>0</th>\n",
              "      <td>2.619365</td>\n",
              "      <td>-0.671520</td>\n",
              "      <td>-1.079671</td>\n",
              "      <td>1.361695</td>\n",
              "      <td>1.764204</td>\n",
              "      <td>-0.361184</td>\n",
              "      <td>-0.075998</td>\n",
              "      <td>-1.252543</td>\n",
              "      <td>-1.210558</td>\n",
              "    </tr>\n",
              "    <tr>\n",
              "      <th>1</th>\n",
              "      <td>2.539569</td>\n",
              "      <td>-0.573264</td>\n",
              "      <td>-0.761872</td>\n",
              "      <td>2.296608</td>\n",
              "      <td>3.230441</td>\n",
              "      <td>-0.261865</td>\n",
              "      <td>-0.099404</td>\n",
              "      <td>-1.081483</td>\n",
              "      <td>-1.096745</td>\n",
              "    </tr>\n",
              "    <tr>\n",
              "      <th>2</th>\n",
              "      <td>2.494683</td>\n",
              "      <td>-0.905463</td>\n",
              "      <td>-0.920772</td>\n",
              "      <td>-0.882462</td>\n",
              "      <td>-0.866956</td>\n",
              "      <td>-0.955354</td>\n",
              "      <td>-0.999252</td>\n",
              "      <td>-1.170105</td>\n",
              "      <td>-1.048461</td>\n",
              "    </tr>\n",
              "    <tr>\n",
              "      <th>3</th>\n",
              "      <td>2.489696</td>\n",
              "      <td>-0.928857</td>\n",
              "      <td>-1.159121</td>\n",
              "      <td>-0.524186</td>\n",
              "      <td>-0.480230</td>\n",
              "      <td>-0.796793</td>\n",
              "      <td>-0.715774</td>\n",
              "      <td>-0.362600</td>\n",
              "      <td>-1.154514</td>\n",
              "    </tr>\n",
              "    <tr>\n",
              "      <th>4</th>\n",
              "      <td>2.489696</td>\n",
              "      <td>-0.961609</td>\n",
              "      <td>-0.682422</td>\n",
              "      <td>-0.545747</td>\n",
              "      <td>-0.506328</td>\n",
              "      <td>-0.701830</td>\n",
              "      <td>-0.622148</td>\n",
              "      <td>-1.026454</td>\n",
              "      <td>-1.222629</td>\n",
              "    </tr>\n",
              "  </tbody>\n",
              "</table>\n",
              "</div>\n",
              "      <button class=\"colab-df-convert\" onclick=\"convertToInteractive('df-917effa1-f9e1-43dc-804b-463f0e6f3bde')\"\n",
              "              title=\"Convert this dataframe to an interactive table.\"\n",
              "              style=\"display:none;\">\n",
              "        \n",
              "  <svg xmlns=\"http://www.w3.org/2000/svg\" height=\"24px\"viewBox=\"0 0 24 24\"\n",
              "       width=\"24px\">\n",
              "    <path d=\"M0 0h24v24H0V0z\" fill=\"none\"/>\n",
              "    <path d=\"M18.56 5.44l.94 2.06.94-2.06 2.06-.94-2.06-.94-.94-2.06-.94 2.06-2.06.94zm-11 1L8.5 8.5l.94-2.06 2.06-.94-2.06-.94L8.5 2.5l-.94 2.06-2.06.94zm10 10l.94 2.06.94-2.06 2.06-.94-2.06-.94-.94-2.06-.94 2.06-2.06.94z\"/><path d=\"M17.41 7.96l-1.37-1.37c-.4-.4-.92-.59-1.43-.59-.52 0-1.04.2-1.43.59L10.3 9.45l-7.72 7.72c-.78.78-.78 2.05 0 2.83L4 21.41c.39.39.9.59 1.41.59.51 0 1.02-.2 1.41-.59l7.78-7.78 2.81-2.81c.8-.78.8-2.07 0-2.86zM5.41 20L4 18.59l7.72-7.72 1.47 1.35L5.41 20z\"/>\n",
              "  </svg>\n",
              "      </button>\n",
              "      \n",
              "  <style>\n",
              "    .colab-df-container {\n",
              "      display:flex;\n",
              "      flex-wrap:wrap;\n",
              "      gap: 12px;\n",
              "    }\n",
              "\n",
              "    .colab-df-convert {\n",
              "      background-color: #E8F0FE;\n",
              "      border: none;\n",
              "      border-radius: 50%;\n",
              "      cursor: pointer;\n",
              "      display: none;\n",
              "      fill: #1967D2;\n",
              "      height: 32px;\n",
              "      padding: 0 0 0 0;\n",
              "      width: 32px;\n",
              "    }\n",
              "\n",
              "    .colab-df-convert:hover {\n",
              "      background-color: #E2EBFA;\n",
              "      box-shadow: 0px 1px 2px rgba(60, 64, 67, 0.3), 0px 1px 3px 1px rgba(60, 64, 67, 0.15);\n",
              "      fill: #174EA6;\n",
              "    }\n",
              "\n",
              "    [theme=dark] .colab-df-convert {\n",
              "      background-color: #3B4455;\n",
              "      fill: #D2E3FC;\n",
              "    }\n",
              "\n",
              "    [theme=dark] .colab-df-convert:hover {\n",
              "      background-color: #434B5C;\n",
              "      box-shadow: 0px 1px 3px 1px rgba(0, 0, 0, 0.15);\n",
              "      filter: drop-shadow(0px 1px 2px rgba(0, 0, 0, 0.3));\n",
              "      fill: #FFFFFF;\n",
              "    }\n",
              "  </style>\n",
              "\n",
              "      <script>\n",
              "        const buttonEl =\n",
              "          document.querySelector('#df-917effa1-f9e1-43dc-804b-463f0e6f3bde button.colab-df-convert');\n",
              "        buttonEl.style.display =\n",
              "          google.colab.kernel.accessAllowed ? 'block' : 'none';\n",
              "\n",
              "        async function convertToInteractive(key) {\n",
              "          const element = document.querySelector('#df-917effa1-f9e1-43dc-804b-463f0e6f3bde');\n",
              "          const dataTable =\n",
              "            await google.colab.kernel.invokeFunction('convertToInteractive',\n",
              "                                                     [key], {});\n",
              "          if (!dataTable) return;\n",
              "\n",
              "          const docLinkHtml = 'Like what you see? Visit the ' +\n",
              "            '<a target=\"_blank\" href=https://colab.research.google.com/notebooks/data_table.ipynb>data table notebook</a>'\n",
              "            + ' to learn more about interactive tables.';\n",
              "          element.innerHTML = '';\n",
              "          dataTable['output_type'] = 'display_data';\n",
              "          await google.colab.output.renderOutput(dataTable, element);\n",
              "          const docLink = document.createElement('div');\n",
              "          docLink.innerHTML = docLinkHtml;\n",
              "          element.appendChild(docLink);\n",
              "        }\n",
              "      </script>\n",
              "    </div>\n",
              "  </div>\n",
              "  "
            ]
          },
          "metadata": {},
          "execution_count": 159
        }
      ]
    },
    {
      "cell_type": "markdown",
      "source": [
        "# Dimensionality Reduction\n",
        "The graph displays 2 plots: 1) The variance percentage of the individual components and 2) the cumulative sum of the variance percentage after applying PCA to the normalized dataset.\n",
        "\n",
        "The goal is to choose n principal components such that n is less than the number of features, while keeping most of the dataset variance.\n",
        "\n",
        "We can automatically choose n by setting a threshold on how much variance we want to keep in our dataset. For instance, if we want to keep 99% of the dataset variance, then we must use 6 principal components (~98.66% variance)."
      ],
      "metadata": {
        "id": "uJhxZoVWiFhu"
      }
    },
    {
      "cell_type": "code",
      "source": [
        "X = data\n",
        "x_axis = range(1, n_features+1)\n",
        "\n",
        "# Apply PCA starting from 1 to n features\n",
        "pca = PCA(n_components=None).fit(X)\n",
        "\n",
        "# Get component variance\n",
        "exp_var = pca.explained_variance_ratio_ * 100\n",
        "\n",
        "# Calculate cumulative sum for components\n",
        "cum_exp_var = np.cumsum(exp_var)"
      ],
      "metadata": {
        "id": "qRnr5Cq_xj7c"
      },
      "execution_count": null,
      "outputs": []
    },
    {
      "cell_type": "code",
      "source": [
        "plt.figure(figsize=(10,6))\n",
        "bars = plt.bar(x_axis, exp_var, align='center', label='Individual explained variance')\n",
        "steps = plt.step(x_axis, cum_exp_var, where='mid', label='Cumulative explained variance', color='red')\n",
        "\n",
        "for bar in bars:\n",
        "  x,width,height = bar.get_x(), bar.get_width(), bar.get_height()\n",
        "  plt.text(x=x+width/4, y=height+0.50, s=\"{0}%\".format(round(height,1)))\n",
        "\n",
        "for x,y in steps[0].get_xydata():\n",
        "  plt.text(x=x-0.25, y=y-5, s=\"{0}%\".format(round(y,1)))\n",
        "\n",
        "plt.ylabel('Explained variance percentage')\n",
        "plt.xlabel('Principal component index')\n",
        "plt.xticks(ticks=x_axis)\n",
        "plt.legend(loc='center')\n",
        "plt.show()"
      ],
      "metadata": {
        "colab": {
          "base_uri": "https://localhost:8080/",
          "height": 388
        },
        "id": "gMPf5_5-iFOZ",
        "outputId": "82208420-51e5-41dd-e21d-6d2e82f27061"
      },
      "execution_count": null,
      "outputs": [
        {
          "output_type": "display_data",
          "data": {
            "text/plain": [
              "<Figure size 720x432 with 1 Axes>"
            ],
            "image/png": "[encoded data removed]"
          },
          "metadata": {}
        }
      ]
    },
    {
      "cell_type": "code",
      "source": [
        "VARIANCE_THRESHOLD = 65\n",
        "n = np.where(cum_exp_var <= VARIANCE_THRESHOLD)[0][-1]\n",
        "X = PCA(n_components=n+1).fit_transform(X)\n",
        "print(\"{0} principal components with a cumulative variance of {1}%\".format(n+1, cum_exp_var[n]))"
      ],
      "metadata": {
        "colab": {
          "base_uri": "https://localhost:8080/"
        },
        "id": "R0m7n-KDyI1G",
        "outputId": "25ea1358-eeb3-48f9-a734-2868ac1150d6"
      },
      "execution_count": null,
      "outputs": [
        {
          "output_type": "stream",
          "name": "stdout",
          "text": [
            "2 principal components with a cumulative variance of 64.88130490694239%\n"
          ]
        }
      ]
    },
    {
      "cell_type": "markdown",
      "source": [
        "# sklearn.cluster.KMeans\n",
        "#### Params\n",
        "- init: {'k-means++', 'random'} - Selects initial clusters the smart way or by random\n",
        "- n-init: int, default=10 - Number of time the k-means algorithm will be run with different centroid seeds. The final results will be the best output of n_init consecutive runs in terms of inertia.\n",
        "- max_iter: int, default=300 - Maximum number of iterations of the k-means algorithm for a single run.\n",
        "- tol: float, default=1e-4 - Relative tolerance with regards to Frobenius norm of the difference in the cluster centers of two consecutive iterations to declare convergence.\n",
        "  -  The Frobenius norm is matrix norm of an m×n matrix A defined as the square root of the sum of the absolute squares of its elements.\n",
        "- random_state: int, RandomState instance or None, default=None - Add a random seed"
      ],
      "metadata": {
        "id": "fURmFkLm6NJt"
      }
    },
    {
      "cell_type": "code",
      "source": [
        "# Compute k-means\n",
        "kmeans = [[i, KMeans(n_clusters=i, random_state=0).fit(X)] for i in range(2,10)]\n",
        "# Retrieve k-means inertia\n",
        "inertias = list(map(lambda kmean: [kmean[0], kmean[1].inertia_], kmeans))\n",
        "inertias = pd.DataFrame(inertias)\n",
        "inertias.columns = ('n_clusters', 'inertia')"
      ],
      "metadata": {
        "id": "zp5gEIcbsVUr"
      },
      "execution_count": null,
      "outputs": []
    },
    {
      "cell_type": "code",
      "source": [
        "# Implement silhouette score to determine k for k-means"
      ],
      "metadata": {
        "id": "lDz9VK3e9vM7"
      },
      "execution_count": null,
      "outputs": []
    },
    {
      "cell_type": "code",
      "source": [
        "cluster_labels = list(filter(lambda x: x[0]==6, kmeans))[0][1].predict(X)\n",
        "data['econ_region'] = cluster_labels\n",
        "data['econ_region'] = data['econ_region'].astype(\"category\")\n",
        "data.head(5)"
      ],
      "metadata": {
        "id": "mKxgTVL1VOi1",
        "colab": {
          "base_uri": "https://localhost:8080/",
          "height": 206
        },
        "outputId": "be0e9d03-0f79-43ef-dd69-1ec7de4e74a1"
      },
      "execution_count": null,
      "outputs": [
        {
          "output_type": "execute_result",
          "data": {
            "text/plain": [
              "   longitude  latitude  housing_median_age  total_rooms  total_bedrooms  \\\n",
              "0   2.619365 -0.671520           -1.079671     1.361695        1.764204   \n",
              "1   2.539569 -0.573264           -0.761872     2.296608        3.230441   \n",
              "2   2.494683 -0.905463           -0.920772    -0.882462       -0.866956   \n",
              "3   2.489696 -0.928857           -1.159121    -0.524186       -0.480230   \n",
              "4   2.489696 -0.961609           -0.682422    -0.545747       -0.506328   \n",
              "\n",
              "   population  households  median_income  median_house_value econ_region  \n",
              "0   -0.361184   -0.075998      -1.252543           -1.210558           1  \n",
              "1   -0.261865   -0.099404      -1.081483           -1.096745           1  \n",
              "2   -0.955354   -0.999252      -1.170105           -1.048461           0  \n",
              "3   -0.796793   -0.715774      -0.362600           -1.154514           0  \n",
              "4   -0.701830   -0.622148      -1.026454           -1.222629           0  "
            ],
            "text/html": [
              "\n",
              "  <div id=\"df-fb92a234-4218-4669-aea2-f94e6311df54\">\n",
              "    <div class=\"colab-df-container\">\n",
              "      <div>\n",
              "<style scoped>\n",
              "    .dataframe tbody tr th:only-of-type {\n",
              "        vertical-align: middle;\n",
              "    }\n",
              "\n",
              "    .dataframe tbody tr th {\n",
              "        vertical-align: top;\n",
              "    }\n",
              "\n",
              "    .dataframe thead th {\n",
              "        text-align: right;\n",
              "    }\n",
              "</style>\n",
              "<table border=\"1\" class=\"dataframe\">\n",
              "  <thead>\n",
              "    <tr style=\"text-align: right;\">\n",
              "      <th></th>\n",
              "      <th>longitude</th>\n",
              "      <th>latitude</th>\n",
              "      <th>housing_median_age</th>\n",
              "      <th>total_rooms</th>\n",
              "      <th>total_bedrooms</th>\n",
              "      <th>population</th>\n",
              "      <th>households</th>\n",
              "      <th>median_income</th>\n",
              "      <th>median_house_value</th>\n",
              "      <th>econ_region</th>\n",
              "    </tr>\n",
              "  </thead>\n",
              "  <tbody>\n",
              "    <tr>\n",
              "      <th>0</th>\n",
              "      <td>2.619365</td>\n",
              "      <td>-0.671520</td>\n",
              "      <td>-1.079671</td>\n",
              "      <td>1.361695</td>\n",
              "      <td>1.764204</td>\n",
              "      <td>-0.361184</td>\n",
              "      <td>-0.075998</td>\n",
              "      <td>-1.252543</td>\n",
              "      <td>-1.210558</td>\n",
              "      <td>1</td>\n",
              "    </tr>\n",
              "    <tr>\n",
              "      <th>1</th>\n",
              "      <td>2.539569</td>\n",
              "      <td>-0.573264</td>\n",
              "      <td>-0.761872</td>\n",
              "      <td>2.296608</td>\n",
              "      <td>3.230441</td>\n",
              "      <td>-0.261865</td>\n",
              "      <td>-0.099404</td>\n",
              "      <td>-1.081483</td>\n",
              "      <td>-1.096745</td>\n",
              "      <td>1</td>\n",
              "    </tr>\n",
              "    <tr>\n",
              "      <th>2</th>\n",
              "      <td>2.494683</td>\n",
              "      <td>-0.905463</td>\n",
              "      <td>-0.920772</td>\n",
              "      <td>-0.882462</td>\n",
              "      <td>-0.866956</td>\n",
              "      <td>-0.955354</td>\n",
              "      <td>-0.999252</td>\n",
              "      <td>-1.170105</td>\n",
              "      <td>-1.048461</td>\n",
              "      <td>0</td>\n",
              "    </tr>\n",
              "    <tr>\n",
              "      <th>3</th>\n",
              "      <td>2.489696</td>\n",
              "      <td>-0.928857</td>\n",
              "      <td>-1.159121</td>\n",
              "      <td>-0.524186</td>\n",
              "      <td>-0.480230</td>\n",
              "      <td>-0.796793</td>\n",
              "      <td>-0.715774</td>\n",
              "      <td>-0.362600</td>\n",
              "      <td>-1.154514</td>\n",
              "      <td>0</td>\n",
              "    </tr>\n",
              "    <tr>\n",
              "      <th>4</th>\n",
              "      <td>2.489696</td>\n",
              "      <td>-0.961609</td>\n",
              "      <td>-0.682422</td>\n",
              "      <td>-0.545747</td>\n",
              "      <td>-0.506328</td>\n",
              "      <td>-0.701830</td>\n",
              "      <td>-0.622148</td>\n",
              "      <td>-1.026454</td>\n",
              "      <td>-1.222629</td>\n",
              "      <td>0</td>\n",
              "    </tr>\n",
              "  </tbody>\n",
              "</table>\n",
              "</div>\n",
              "      <button class=\"colab-df-convert\" onclick=\"convertToInteractive('df-fb92a234-4218-4669-aea2-f94e6311df54')\"\n",
              "              title=\"Convert this dataframe to an interactive table.\"\n",
              "              style=\"display:none;\">\n",
              "        \n",
              "  <svg xmlns=\"http://www.w3.org/2000/svg\" height=\"24px\"viewBox=\"0 0 24 24\"\n",
              "       width=\"24px\">\n",
              "    <path d=\"M0 0h24v24H0V0z\" fill=\"none\"/>\n",
              "    <path d=\"M18.56 5.44l.94 2.06.94-2.06 2.06-.94-2.06-.94-.94-2.06-.94 2.06-2.06.94zm-11 1L8.5 8.5l.94-2.06 2.06-.94-2.06-.94L8.5 2.5l-.94 2.06-2.06.94zm10 10l.94 2.06.94-2.06 2.06-.94-2.06-.94-.94-2.06-.94 2.06-2.06.94z\"/><path d=\"M17.41 7.96l-1.37-1.37c-.4-.4-.92-.59-1.43-.59-.52 0-1.04.2-1.43.59L10.3 9.45l-7.72 7.72c-.78.78-.78 2.05 0 2.83L4 21.41c.39.39.9.59 1.41.59.51 0 1.02-.2 1.41-.59l7.78-7.78 2.81-2.81c.8-.78.8-2.07 0-2.86zM5.41 20L4 18.59l7.72-7.72 1.47 1.35L5.41 20z\"/>\n",
              "  </svg>\n",
              "      </button>\n",
              "      \n",
              "  <style>\n",
              "    .colab-df-container {\n",
              "      display:flex;\n",
              "      flex-wrap:wrap;\n",
              "      gap: 12px;\n",
              "    }\n",
              "\n",
              "    .colab-df-convert {\n",
              "      background-color: #E8F0FE;\n",
              "      border: none;\n",
              "      border-radius: 50%;\n",
              "      cursor: pointer;\n",
              "      display: none;\n",
              "      fill: #1967D2;\n",
              "      height: 32px;\n",
              "      padding: 0 0 0 0;\n",
              "      width: 32px;\n",
              "    }\n",
              "\n",
              "    .colab-df-convert:hover {\n",
              "      background-color: #E2EBFA;\n",
              "      box-shadow: 0px 1px 2px rgba(60, 64, 67, 0.3), 0px 1px 3px 1px rgba(60, 64, 67, 0.15);\n",
              "      fill: #174EA6;\n",
              "    }\n",
              "\n",
              "    [theme=dark] .colab-df-convert {\n",
              "      background-color: #3B4455;\n",
              "      fill: #D2E3FC;\n",
              "    }\n",
              "\n",
              "    [theme=dark] .colab-df-convert:hover {\n",
              "      background-color: #434B5C;\n",
              "      box-shadow: 0px 1px 3px 1px rgba(0, 0, 0, 0.15);\n",
              "      filter: drop-shadow(0px 1px 2px rgba(0, 0, 0, 0.3));\n",
              "      fill: #FFFFFF;\n",
              "    }\n",
              "  </style>\n",
              "\n",
              "      <script>\n",
              "        const buttonEl =\n",
              "          document.querySelector('#df-fb92a234-4218-4669-aea2-f94e6311df54 button.colab-df-convert');\n",
              "        buttonEl.style.display =\n",
              "          google.colab.kernel.accessAllowed ? 'block' : 'none';\n",
              "\n",
              "        async function convertToInteractive(key) {\n",
              "          const element = document.querySelector('#df-fb92a234-4218-4669-aea2-f94e6311df54');\n",
              "          const dataTable =\n",
              "            await google.colab.kernel.invokeFunction('convertToInteractive',\n",
              "                                                     [key], {});\n",
              "          if (!dataTable) return;\n",
              "\n",
              "          const docLinkHtml = 'Like what you see? Visit the ' +\n",
              "            '<a target=\"_blank\" href=https://colab.research.google.com/notebooks/data_table.ipynb>data table notebook</a>'\n",
              "            + ' to learn more about interactive tables.';\n",
              "          element.innerHTML = '';\n",
              "          dataTable['output_type'] = 'display_data';\n",
              "          await google.colab.output.renderOutput(dataTable, element);\n",
              "          const docLink = document.createElement('div');\n",
              "          docLink.innerHTML = docLinkHtml;\n",
              "          element.appendChild(docLink);\n",
              "        }\n",
              "      </script>\n",
              "    </div>\n",
              "  </div>\n",
              "  "
            ]
          },
          "metadata": {},
          "execution_count": 176
        }
      ]
    },
    {
      "cell_type": "code",
      "source": [
        "sns.set_style('whitegrid')\n",
        "sns.relplot(x='longitude', y='latitude', hue='econ_region', data=data, kind='scatter')\n",
        "plt.show()"
      ],
      "metadata": {
        "id": "YlNZFFbTVW2u",
        "colab": {
          "base_uri": "https://localhost:8080/",
          "height": 369
        },
        "outputId": "84893c55-0f1a-48b0-a015-118b32779b60"
      },
      "execution_count": null,
      "outputs": [
        {
          "output_type": "display_data",
          "data": {
            "text/plain": [
              "<Figure size 428.625x360 with 1 Axes>"
            ],
            "image/png": "[encoded data removed]"
          },
          "metadata": {}
        }
      ]
    },
    {
      "cell_type": "code",
      "source": [
        ""
      ],
      "metadata": {
        "id": "V_3lM3CUAroJ"
      },
      "execution_count": null,
      "outputs": []
    },
    {
      "cell_type": "code",
      "source": [
        ""
      ],
      "metadata": {
        "id": "ywfphZwQArTw"
      },
      "execution_count": null,
      "outputs": []
    },
    {
      "cell_type": "markdown",
      "source": [
        "# Feature selection w/ Random Forest\n",
        "\n",
        "\n",
        "---\n",
        "## [Irrelavant for current project] Notes to implement a decision tree\n",
        "### Measure Entropy\n",
        "Entropy = $\\sum(-p \\cdot \\log_2{(p_i)})$ \\\\\n",
        "$p_i$ = probability of class $i$ \\\\\n",
        "### Determine Information Gained (IG)\n",
        "$IG_i = E(\\text{parent}) - \\sum(w_i \\cdot E(\\text{child}_i))$\n",
        "\n",
        "Compare Information Gained of all class $i$ to determine which value has more IG.\n",
        "\n",
        "*** $log_2$ for binary tree, or $log_n$ for n-tree"
      ],
      "metadata": {
        "id": "zDlTWDN4AsTk"
      }
    },
    {
      "cell_type": "code",
      "source": [
        ""
      ],
      "metadata": {
        "id": "DGjYGIMXz-OR"
      },
      "execution_count": null,
      "outputs": []
    },
    {
      "cell_type": "code",
      "source": [
        ""
      ],
      "metadata": {
        "id": "PFL144_vAtSo"
      },
      "execution_count": null,
      "outputs": []
    }
  ]
}